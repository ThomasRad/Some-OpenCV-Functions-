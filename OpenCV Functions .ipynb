{
 "cells": [
  {
   "cell_type": "markdown",
   "metadata": {},
   "source": [
    "# Following Along Tutorial"
   ]
  },
  {
   "cell_type": "markdown",
   "metadata": {},
   "source": [
    "## This notebook we will be using some OpenCV functions. "
   ]
  },
  {
   "cell_type": "code",
   "execution_count": 1,
   "metadata": {},
   "outputs": [
    {
     "data": {
      "text/plain": [
       "-1"
      ]
     },
     "execution_count": 1,
     "metadata": {},
     "output_type": "execute_result"
    }
   ],
   "source": [
    "# Import OpenCV\n",
    "\n",
    "import cv2 as cv\n",
    "\n",
    "\n",
    "# Read the image \n",
    "\n",
    "img = cv.imread('/Users/tradk/dogs-vs-cats/train/cat.1.jpg')\n",
    "\n",
    "# Converting images into grayscale. \n",
    "\n",
    "gray = cv.cvtColor(img, cv.COLOR_BGR2GRAY)\n",
    "\n",
    "# Show the image\n",
    "\n",
    "cv.imshow('Gray Image', gray)\n",
    "\n",
    "\n",
    "\n",
    "# Blurring an image. \n",
    "\n",
    "blur = cv.GaussianBlur(img, (7,7), cv.BORDER_DEFAULT)\n",
    "\n",
    "cv.imshow('Blurred Image', blur)\n",
    "\n",
    "\n",
    "\n",
    "# Creating edge cascade. \n",
    "\n",
    "canny = cv.Canny(img, 125,175)\n",
    "\n",
    "cv.imshow(\"Canny\", canny)\n",
    "\n",
    "\n",
    "\n",
    "# To reduce the number of edges in the image \n",
    "\n",
    "canny_blur = cv.Canny(blur, 125, 175)\n",
    "\n",
    "cv.imshow(\"Canny Blur\", canny_blur)\n",
    "\n",
    "\n",
    "\n",
    "# Resizing images\n",
    "\n",
    "resized = cv.resize(img, (500,500))\n",
    "cv.imshow(\"resized image\", resized)\n",
    "\n",
    "\n",
    "\n",
    "# Cropping images \n",
    "\n",
    "cropped = img[50:200,200:400]\n",
    "cv.imshow(\"cropped image\", cropped)\n",
    "\n",
    "\n",
    "cv.waitKey(0)"
   ]
  }
 ],
 "metadata": {
  "kernelspec": {
   "display_name": "Python 3",
   "language": "python",
   "name": "python3"
  },
  "language_info": {
   "codemirror_mode": {
    "name": "ipython",
    "version": 3
   },
   "file_extension": ".py",
   "mimetype": "text/x-python",
   "name": "python",
   "nbconvert_exporter": "python",
   "pygments_lexer": "ipython3",
   "version": "3.7.6"
  }
 },
 "nbformat": 4,
 "nbformat_minor": 4
}
